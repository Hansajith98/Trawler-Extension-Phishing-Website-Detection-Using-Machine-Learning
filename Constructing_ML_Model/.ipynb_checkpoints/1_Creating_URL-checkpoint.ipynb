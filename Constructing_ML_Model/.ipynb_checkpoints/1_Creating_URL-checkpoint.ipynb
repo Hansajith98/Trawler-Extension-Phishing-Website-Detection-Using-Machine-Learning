{
 "cells": [
  {
   "cell_type": "markdown",
   "metadata": {
    "id": "cayhMC0to-Bn"
   },
   "source": [
    "# Selecting and Downloading 5000 of Phishing URLs and 5000 of Bnigan URLs\n",
    "\n",
    "\n",
    "*   In here, we collect Phishing URLs from http://data.phishtank.com/data/online-valid.csv and  select randomly 5000 URLs and save in to phishing.csv file\n",
    "*   Also, we collect Benigan URLs from https://www.unb.ca/cic/datasets/url-2016.html and  select randomly 5000 URLs from Benign_list_big_final.csv file  and save in to Benigan.csv file\n",
    "\n"
   ]
  },
  {
   "cell_type": "code",
   "execution_count": 13,
   "metadata": {
    "id": "2i4t3eAFovOg"
   },
   "outputs": [],
   "source": [
    "#importing required packages for this Notebook\n",
    "import pandas as pd"
   ]
  },
  {
   "cell_type": "markdown",
   "metadata": {
    "id": "eJFBTydyqw6k"
   },
   "source": [
    "### 1. Selecting and Creating Phishing URLs"
   ]
  },
  {
   "cell_type": "code",
   "execution_count": 14,
   "metadata": {
    "colab": {
     "base_uri": "https://localhost:8080/",
     "height": 289
    },
    "id": "zbnbEGKwrLL8",
    "outputId": "5025f9ff-36ba-404c-cb45-818c6569553f"
   },
   "outputs": [
    {
     "data": {
      "text/html": [
       "<div>\n",
       "<style scoped>\n",
       "    .dataframe tbody tr th:only-of-type {\n",
       "        vertical-align: middle;\n",
       "    }\n",
       "\n",
       "    .dataframe tbody tr th {\n",
       "        vertical-align: top;\n",
       "    }\n",
       "\n",
       "    .dataframe thead th {\n",
       "        text-align: right;\n",
       "    }\n",
       "</style>\n",
       "<table border=\"1\" class=\"dataframe\">\n",
       "  <thead>\n",
       "    <tr style=\"text-align: right;\">\n",
       "      <th></th>\n",
       "      <th>phish_id</th>\n",
       "      <th>url</th>\n",
       "      <th>phish_detail_url</th>\n",
       "      <th>submission_time</th>\n",
       "      <th>verified</th>\n",
       "      <th>verification_time</th>\n",
       "      <th>online</th>\n",
       "      <th>target</th>\n",
       "    </tr>\n",
       "  </thead>\n",
       "  <tbody>\n",
       "    <tr>\n",
       "      <th>0</th>\n",
       "      <td>6874682</td>\n",
       "      <td>http://mycalculatorappx.000webhostapp.com/wp-i...</td>\n",
       "      <td>http://www.phishtank.com/phish_detail.php?phis...</td>\n",
       "      <td>2020-12-04T02:25:05+00:00</td>\n",
       "      <td>yes</td>\n",
       "      <td>2020-12-04T02:30:04+00:00</td>\n",
       "      <td>yes</td>\n",
       "      <td>Other</td>\n",
       "    </tr>\n",
       "    <tr>\n",
       "      <th>1</th>\n",
       "      <td>6874678</td>\n",
       "      <td>http://inukgrrgcsydibjbevadhmmzcf.triple-upgra...</td>\n",
       "      <td>http://www.phishtank.com/phish_detail.php?phis...</td>\n",
       "      <td>2020-12-04T02:11:20+00:00</td>\n",
       "      <td>yes</td>\n",
       "      <td>2020-12-04T02:14:23+00:00</td>\n",
       "      <td>yes</td>\n",
       "      <td>Other</td>\n",
       "    </tr>\n",
       "    <tr>\n",
       "      <th>2</th>\n",
       "      <td>6874677</td>\n",
       "      <td>http://jedvudfhswnlpqwqrricreygil.triple-upgra...</td>\n",
       "      <td>http://www.phishtank.com/phish_detail.php?phis...</td>\n",
       "      <td>2020-12-04T02:11:16+00:00</td>\n",
       "      <td>yes</td>\n",
       "      <td>2020-12-04T02:14:23+00:00</td>\n",
       "      <td>yes</td>\n",
       "      <td>Other</td>\n",
       "    </tr>\n",
       "    <tr>\n",
       "      <th>3</th>\n",
       "      <td>6874676</td>\n",
       "      <td>http://www.adnacgroup.com/iFastrecruit/assets/...</td>\n",
       "      <td>http://www.phishtank.com/phish_detail.php?phis...</td>\n",
       "      <td>2020-12-04T02:11:12+00:00</td>\n",
       "      <td>yes</td>\n",
       "      <td>2020-12-04T02:14:23+00:00</td>\n",
       "      <td>yes</td>\n",
       "      <td>Other</td>\n",
       "    </tr>\n",
       "    <tr>\n",
       "      <th>4</th>\n",
       "      <td>6874675</td>\n",
       "      <td>http://mail.newdevice-security.co.uk/Login.php</td>\n",
       "      <td>http://www.phishtank.com/phish_detail.php?phis...</td>\n",
       "      <td>2020-12-04T02:11:09+00:00</td>\n",
       "      <td>yes</td>\n",
       "      <td>2020-12-04T02:13:39+00:00</td>\n",
       "      <td>yes</td>\n",
       "      <td>Other</td>\n",
       "    </tr>\n",
       "  </tbody>\n",
       "</table>\n",
       "</div>"
      ],
      "text/plain": [
       "   phish_id                                                url  \\\n",
       "0   6874682  http://mycalculatorappx.000webhostapp.com/wp-i...   \n",
       "1   6874678  http://inukgrrgcsydibjbevadhmmzcf.triple-upgra...   \n",
       "2   6874677  http://jedvudfhswnlpqwqrricreygil.triple-upgra...   \n",
       "3   6874676  http://www.adnacgroup.com/iFastrecruit/assets/...   \n",
       "4   6874675     http://mail.newdevice-security.co.uk/Login.php   \n",
       "\n",
       "                                    phish_detail_url  \\\n",
       "0  http://www.phishtank.com/phish_detail.php?phis...   \n",
       "1  http://www.phishtank.com/phish_detail.php?phis...   \n",
       "2  http://www.phishtank.com/phish_detail.php?phis...   \n",
       "3  http://www.phishtank.com/phish_detail.php?phis...   \n",
       "4  http://www.phishtank.com/phish_detail.php?phis...   \n",
       "\n",
       "             submission_time verified          verification_time online target  \n",
       "0  2020-12-04T02:25:05+00:00      yes  2020-12-04T02:30:04+00:00    yes  Other  \n",
       "1  2020-12-04T02:11:20+00:00      yes  2020-12-04T02:14:23+00:00    yes  Other  \n",
       "2  2020-12-04T02:11:16+00:00      yes  2020-12-04T02:14:23+00:00    yes  Other  \n",
       "3  2020-12-04T02:11:12+00:00      yes  2020-12-04T02:14:23+00:00    yes  Other  \n",
       "4  2020-12-04T02:11:09+00:00      yes  2020-12-04T02:13:39+00:00    yes  Other  "
      ]
     },
     "execution_count": 14,
     "metadata": {},
     "output_type": "execute_result"
    }
   ],
   "source": [
    "data0 = pd.read_csv(\"CSV Files/1-valid_Phishing.csv\")\n",
    "data0.head() "
   ]
  },
  {
   "cell_type": "code",
   "execution_count": 15,
   "metadata": {
    "colab": {
     "base_uri": "https://localhost:8080/",
     "height": 34
    },
    "id": "QXhL6fNQrOEd",
    "outputId": "13dd6465-0df3-4dd3-c2a3-9142b9257eb0"
   },
   "outputs": [
    {
     "data": {
      "text/plain": [
       "(15482, 8)"
      ]
     },
     "execution_count": 15,
     "metadata": {},
     "output_type": "execute_result"
    }
   ],
   "source": [
    "data0.shape"
   ]
  },
  {
   "cell_type": "code",
   "execution_count": 16,
   "metadata": {
    "colab": {
     "base_uri": "https://localhost:8080/",
     "height": 119
    },
    "id": "jiPEcl43rSOV",
    "outputId": "0b0e22d4-b08a-4a16-e0ea-1fd06db12275"
   },
   "outputs": [
    {
     "data": {
      "text/plain": [
       "0    https://secure-onlineservice.com/hsbc/spe/idv....\n",
       "1    http://ww17.login-appleid.apple.com.alert-wode...\n",
       "2    http://envirodrilling.com/wp-includes/css/admi...\n",
       "3                               https://s.id/2019conta\n",
       "4                         http://betcupum.blogspot.com\n",
       "Name: url, dtype: object"
      ]
     },
     "execution_count": 16,
     "metadata": {},
     "output_type": "execute_result"
    }
   ],
   "source": [
    "phishurl = data0.sample(n = 5000, random_state = 12).copy()\n",
    "phishurl = phishurl[\"url\"]\n",
    "phishurl = phishurl.reset_index(drop=True)\n",
    "phishurl.head()"
   ]
  },
  {
   "cell_type": "code",
   "execution_count": 17,
   "metadata": {
    "colab": {
     "base_uri": "https://localhost:8080/",
     "height": 17
    },
    "id": "WA4OE5fFrnOz",
    "outputId": "fd706e80-423d-494f-d7cc-e47f699e8dfa"
   },
   "outputs": [],
   "source": [
    "# Storing the extracted legitimate URLs fatures to csv file\n",
    "phishurl.to_csv('CSV Files/3-phishurl.csv', index= False)"
   ]
  },
  {
   "cell_type": "markdown",
   "metadata": {
    "id": "EgoJfrEFz_RJ"
   },
   "source": [
    "### 1. Selecting and Creating Benigan URLs"
   ]
  },
  {
   "cell_type": "code",
   "execution_count": 18,
   "metadata": {
    "colab": {
     "base_uri": "https://localhost:8080/",
     "height": 204
    },
    "id": "LF214Ic20VAI",
    "outputId": "186423ed-876d-43ed-eee7-80b597aa68a9"
   },
   "outputs": [
    {
     "data": {
      "text/html": [
       "<div>\n",
       "<style scoped>\n",
       "    .dataframe tbody tr th:only-of-type {\n",
       "        vertical-align: middle;\n",
       "    }\n",
       "\n",
       "    .dataframe tbody tr th {\n",
       "        vertical-align: top;\n",
       "    }\n",
       "\n",
       "    .dataframe thead th {\n",
       "        text-align: right;\n",
       "    }\n",
       "</style>\n",
       "<table border=\"1\" class=\"dataframe\">\n",
       "  <thead>\n",
       "    <tr style=\"text-align: right;\">\n",
       "      <th></th>\n",
       "      <th>URLs</th>\n",
       "    </tr>\n",
       "  </thead>\n",
       "  <tbody>\n",
       "    <tr>\n",
       "      <th>0</th>\n",
       "      <td>http://1337x.to/torrent/1110018/Blackhat-2015-...</td>\n",
       "    </tr>\n",
       "    <tr>\n",
       "      <th>1</th>\n",
       "      <td>http://1337x.to/torrent/1122940/Blackhat-2015-...</td>\n",
       "    </tr>\n",
       "    <tr>\n",
       "      <th>2</th>\n",
       "      <td>http://1337x.to/torrent/1124395/Fast-and-Furio...</td>\n",
       "    </tr>\n",
       "    <tr>\n",
       "      <th>3</th>\n",
       "      <td>http://1337x.to/torrent/1145504/Avengers-Age-o...</td>\n",
       "    </tr>\n",
       "    <tr>\n",
       "      <th>4</th>\n",
       "      <td>http://1337x.to/torrent/1160078/Avengers-age-o...</td>\n",
       "    </tr>\n",
       "  </tbody>\n",
       "</table>\n",
       "</div>"
      ],
      "text/plain": [
       "                                                URLs\n",
       "0  http://1337x.to/torrent/1110018/Blackhat-2015-...\n",
       "1  http://1337x.to/torrent/1122940/Blackhat-2015-...\n",
       "2  http://1337x.to/torrent/1124395/Fast-and-Furio...\n",
       "3  http://1337x.to/torrent/1145504/Avengers-Age-o...\n",
       "4  http://1337x.to/torrent/1160078/Avengers-age-o..."
      ]
     },
     "execution_count": 18,
     "metadata": {},
     "output_type": "execute_result"
    }
   ],
   "source": [
    "data1 = pd.read_csv(\"CSV Files/2-valid_Benign.csv\")\n",
    "data1.columns = ['URLs']\n",
    "data1.head()"
   ]
  },
  {
   "cell_type": "code",
   "execution_count": 19,
   "metadata": {
    "colab": {
     "base_uri": "https://localhost:8080/",
     "height": 34
    },
    "id": "Bs6bKBA11P8v",
    "outputId": "47e9d408-fa0f-4faf-cbe9-7d5bcccabe71"
   },
   "outputs": [
    {
     "data": {
      "text/plain": [
       "(5000, 1)"
      ]
     },
     "execution_count": 19,
     "metadata": {},
     "output_type": "execute_result"
    }
   ],
   "source": [
    "#Collecting 5,000 Legitimate URLs randomly\n",
    "legiurl = data1.sample(n = 5000, random_state = 12).copy()\n",
    "legiurl = legiurl.reset_index(drop=True)\n",
    "legiurl.shape"
   ]
  },
  {
   "cell_type": "code",
   "execution_count": 20,
   "metadata": {
    "colab": {
     "base_uri": "https://localhost:8080/",
     "height": 17
    },
    "id": "PrzGD_cP1Sck",
    "outputId": "ae5d3c35-c118-4918-ba22-d7bd57049766"
   },
   "outputs": [],
   "source": [
    "# Storing the extracted legitimate URLs fatures to csv file\n",
    "legiurl.to_csv('CSV Files/4-beniganurl.csv', index= False)"
   ]
  }
 ],
 "metadata": {
  "colab": {
   "collapsed_sections": [],
   "name": "1-Creating_URL.ipynb",
   "provenance": []
  },
  "kernelspec": {
   "display_name": "Python 3",
   "language": "python",
   "name": "python3"
  },
  "language_info": {
   "codemirror_mode": {
    "name": "ipython",
    "version": 3
   },
   "file_extension": ".py",
   "mimetype": "text/x-python",
   "name": "python",
   "nbconvert_exporter": "python",
   "pygments_lexer": "ipython3",
   "version": "3.7.6"
  }
 },
 "nbformat": 4,
 "nbformat_minor": 4
}
