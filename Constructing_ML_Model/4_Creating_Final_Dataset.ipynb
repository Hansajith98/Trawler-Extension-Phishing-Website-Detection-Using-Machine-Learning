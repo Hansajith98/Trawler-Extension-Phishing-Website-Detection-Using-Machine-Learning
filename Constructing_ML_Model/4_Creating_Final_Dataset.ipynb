{
 "cells": [
  {
   "cell_type": "markdown",
   "metadata": {},
   "source": [
    "# Creating Final Dataset and save in to Comma Seperated Value(.csv) Files"
   ]
  },
  {
   "cell_type": "markdown",
   "metadata": {
    "id": "wTr8Adnw86Sr"
   },
   "source": [
    "## Creating Final Data Set\n",
    "In here, we concatenate phishing1.csv, phishing2.csv, legitimate1.csv and legitimate1.csv and make a final datatset.csv file"
   ]
  },
  {
   "cell_type": "markdown",
   "metadata": {
    "id": "oFQ2Juy6-avo"
   },
   "source": [
    "Creating DataFrame for Uploaded Phishing URLs Files"
   ]
  },
  {
   "cell_type": "code",
   "execution_count": null,
   "metadata": {},
   "outputs": [],
   "source": [
    "#importing required packages for this module\n",
    "import pandas as pd"
   ]
  },
  {
   "cell_type": "code",
   "execution_count": null,
   "metadata": {
    "id": "9LC28hgX-Z-i"
   },
   "outputs": [],
   "source": [
    "phishing = pd.read_csv(\"5-phish_features.csv\")\n",
    "phishing.head()"
   ]
  },
  {
   "cell_type": "markdown",
   "metadata": {
    "id": "U5nBwK2B_Knw"
   },
   "source": [
    "Creating DataFrame for Uploaded Phishing URLs Files"
   ]
  },
  {
   "cell_type": "code",
   "execution_count": null,
   "metadata": {
    "id": "UTONot_g_BW_"
   },
   "outputs": [],
   "source": [
    "legitimate = pd.read_csv(\"6-legitimate_features.csv\")\n",
    "legitimate.head()"
   ]
  },
  {
   "cell_type": "markdown",
   "metadata": {
    "id": "4o5MfV6J-OTI"
   },
   "source": [
    "## **5. Final Dataset**\n",
    "In the above section we formed two dataframes of legitimate & phishing URL features. Now, we will combine them to a single dataframe and export the data to csv file for the Machine Learning training done in other notebook."
   ]
  },
  {
   "cell_type": "code",
   "execution_count": null,
   "metadata": {
    "id": "fopMHp67-SDE"
   },
   "outputs": [],
   "source": [
    "#Concatenating the dataframes into one \n",
    "urldata = pd.concat([legitimate, phishing]).reset_index(drop=True)\n",
    "urldata.head()"
   ]
  },
  {
   "cell_type": "code",
   "execution_count": null,
   "metadata": {
    "id": "Crsi_6Gc_ssX"
   },
   "outputs": [],
   "source": [
    "# Storing the data in CSV file\n",
    "urldata.to_csv('7-Final_dataset.csv', index=False)"
   ]
  },
  {
   "cell_type": "markdown",
   "metadata": {},
   "source": [
    "### Contributors - Deshitha Hansajith [Linked In](https://www.linkedin.com/in/deshitha-hansajith/), Nipuni Dilukshika [Linked In](https://www.linkedin.com/in/nipuni-dilukshika-186764197/)"
   ]
  }
 ],
 "metadata": {
  "colab": {
   "collapsed_sections": [],
   "name": "4-Creating_Final_Dataset.ipynb",
   "provenance": []
  },
  "kernelspec": {
   "display_name": "Python 3",
   "language": "python",
   "name": "python3"
  },
  "language_info": {
   "codemirror_mode": {
    "name": "ipython",
    "version": 3
   },
   "file_extension": ".py",
   "mimetype": "text/x-python",
   "name": "python",
   "nbconvert_exporter": "python",
   "pygments_lexer": "ipython3",
   "version": "3.7.6"
  }
 },
 "nbformat": 4,
 "nbformat_minor": 4
}
